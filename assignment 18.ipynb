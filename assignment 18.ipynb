{
 "cells": [
  {
   "cell_type": "code",
   "execution_count": 1,
   "id": "f73b9ce1",
   "metadata": {},
   "outputs": [],
   "source": [
    "import pandas as pd\n",
    "import seaborn as sns\n",
    "sales = pd.read_csv(\"./input/sales.csv\")"
   ]
  },
  {
   "cell_type": "code",
   "execution_count": 2,
   "id": "329c9750",
   "metadata": {},
   "outputs": [
    {
     "data": {
      "text/html": [
       "<div>\n",
       "<style scoped>\n",
       "    .dataframe tbody tr th:only-of-type {\n",
       "        vertical-align: middle;\n",
       "    }\n",
       "\n",
       "    .dataframe tbody tr th {\n",
       "        vertical-align: top;\n",
       "    }\n",
       "\n",
       "    .dataframe thead th {\n",
       "        text-align: right;\n",
       "    }\n",
       "</style>\n",
       "<table border=\"1\" class=\"dataframe\">\n",
       "  <thead>\n",
       "    <tr style=\"text-align: right;\">\n",
       "      <th></th>\n",
       "      <th>Country</th>\n",
       "      <th>Items</th>\n",
       "      <th>Sales Channel</th>\n",
       "      <th>Order Priority</th>\n",
       "      <th>Order Date</th>\n",
       "      <th>Order ID</th>\n",
       "      <th>Ship Date</th>\n",
       "      <th>Units Sold</th>\n",
       "      <th>UnitPrice</th>\n",
       "      <th>UnitCost</th>\n",
       "      <th>TotalRevenue</th>\n",
       "      <th>TotalCost</th>\n",
       "      <th>TotalProfit</th>\n",
       "    </tr>\n",
       "  </thead>\n",
       "  <tbody>\n",
       "    <tr>\n",
       "      <th>0</th>\n",
       "      <td>Namibia</td>\n",
       "      <td>Household</td>\n",
       "      <td>Offline</td>\n",
       "      <td>M</td>\n",
       "      <td>8/31/2015</td>\n",
       "      <td>897751939</td>\n",
       "      <td>10/12/2015</td>\n",
       "      <td>3604</td>\n",
       "      <td>668.27</td>\n",
       "      <td>502.54</td>\n",
       "      <td>2408445.08</td>\n",
       "      <td>1811154.16</td>\n",
       "      <td>597290.92</td>\n",
       "    </tr>\n",
       "    <tr>\n",
       "      <th>1</th>\n",
       "      <td>Iceland</td>\n",
       "      <td>Baby Food</td>\n",
       "      <td>Online</td>\n",
       "      <td>H</td>\n",
       "      <td>11/20/2010</td>\n",
       "      <td>599480426</td>\n",
       "      <td>1/9/2011</td>\n",
       "      <td>8435</td>\n",
       "      <td>255.28</td>\n",
       "      <td>159.42</td>\n",
       "      <td>2153286.80</td>\n",
       "      <td>1344707.70</td>\n",
       "      <td>808579.10</td>\n",
       "    </tr>\n",
       "    <tr>\n",
       "      <th>2</th>\n",
       "      <td>Russia</td>\n",
       "      <td>Meat</td>\n",
       "      <td>Online</td>\n",
       "      <td>L</td>\n",
       "      <td>6/22/2017</td>\n",
       "      <td>538911855</td>\n",
       "      <td>6/25/2017</td>\n",
       "      <td>4848</td>\n",
       "      <td>421.89</td>\n",
       "      <td>364.69</td>\n",
       "      <td>2045322.72</td>\n",
       "      <td>1768017.12</td>\n",
       "      <td>277305.60</td>\n",
       "    </tr>\n",
       "    <tr>\n",
       "      <th>3</th>\n",
       "      <td>Moldova</td>\n",
       "      <td>Meat</td>\n",
       "      <td>Online</td>\n",
       "      <td>L</td>\n",
       "      <td>2/28/2012</td>\n",
       "      <td>459845054</td>\n",
       "      <td>3/20/2012</td>\n",
       "      <td>7225</td>\n",
       "      <td>421.89</td>\n",
       "      <td>364.69</td>\n",
       "      <td>3048155.25</td>\n",
       "      <td>2634885.25</td>\n",
       "      <td>413270.00</td>\n",
       "    </tr>\n",
       "    <tr>\n",
       "      <th>4</th>\n",
       "      <td>Malta</td>\n",
       "      <td>Cereal</td>\n",
       "      <td>Online</td>\n",
       "      <td>M</td>\n",
       "      <td>8/12/2010</td>\n",
       "      <td>626391351</td>\n",
       "      <td>9/13/2010</td>\n",
       "      <td>1975</td>\n",
       "      <td>205.70</td>\n",
       "      <td>117.11</td>\n",
       "      <td>406257.50</td>\n",
       "      <td>231292.25</td>\n",
       "      <td>174965.25</td>\n",
       "    </tr>\n",
       "  </tbody>\n",
       "</table>\n",
       "</div>"
      ],
      "text/plain": [
       "    Country      Items Sales Channel Order Priority  Order Date   Order ID  \\\n",
       "0   Namibia  Household       Offline              M   8/31/2015  897751939   \n",
       "1   Iceland  Baby Food        Online              H  11/20/2010  599480426   \n",
       "2    Russia       Meat        Online              L   6/22/2017  538911855   \n",
       "3  Moldova        Meat        Online              L   2/28/2012  459845054   \n",
       "4     Malta     Cereal        Online              M   8/12/2010  626391351   \n",
       "\n",
       "    Ship Date  Units Sold  UnitPrice  UnitCost  TotalRevenue   TotalCost  \\\n",
       "0  10/12/2015        3604     668.27    502.54    2408445.08  1811154.16   \n",
       "1    1/9/2011        8435     255.28    159.42    2153286.80  1344707.70   \n",
       "2   6/25/2017        4848     421.89    364.69    2045322.72  1768017.12   \n",
       "3   3/20/2012        7225     421.89    364.69    3048155.25  2634885.25   \n",
       "4   9/13/2010        1975     205.70    117.11     406257.50   231292.25   \n",
       "\n",
       "   TotalProfit  \n",
       "0    597290.92  \n",
       "1    808579.10  \n",
       "2    277305.60  \n",
       "3    413270.00  \n",
       "4    174965.25  "
      ]
     },
     "execution_count": 2,
     "metadata": {},
     "output_type": "execute_result"
    }
   ],
   "source": [
    "sales.head()"
   ]
  },
  {
   "cell_type": "code",
   "execution_count": 3,
   "id": "334c85e3",
   "metadata": {},
   "outputs": [],
   "source": [
    "from sklearn.tree import DecisionTreeRegressor\n",
    "sales = sales.dropna()"
   ]
  },
  {
   "cell_type": "code",
   "execution_count": 4,
   "id": "d75a84a4",
   "metadata": {},
   "outputs": [],
   "source": [
    "from sklearn.model_selection import train_test_split"
   ]
  },
  {
   "cell_type": "code",
   "execution_count": 5,
   "id": "1503afbf",
   "metadata": {},
   "outputs": [],
   "source": [
    "def calculate_rmse(predictions, actuals):\n",
    "    if(len(predictions) != len(actuals)):\n",
    "        raise Exception(\"The amount of predictions did not equal the amount of actuals\")\n",
    "    \n",
    "    return (((predictions - actuals) ** 2).sum() / len(actuals)) ** (1/2)"
   ]
  },
  {
   "cell_type": "code",
   "execution_count": 6,
   "id": "0c22ae05",
   "metadata": {},
   "outputs": [
    {
     "name": "stdout",
     "output_type": "stream",
     "text": [
      "(35000, 13) (15000, 13)\n"
     ]
    }
   ],
   "source": [
    "sales_train, sales_test = train_test_split(sales, test_size=0.3, random_state=42)\n",
    "print(sales_train.shape, sales_test.shape)"
   ]
  },
  {
   "cell_type": "code",
   "execution_count": 7,
   "id": "ba41352f",
   "metadata": {},
   "outputs": [
    {
     "data": {
      "text/plain": [
       "DecisionTreeRegressor(max_depth=1)"
      ]
     },
     "execution_count": 7,
     "metadata": {},
     "output_type": "execute_result"
    }
   ],
   "source": [
    "features= ['TotalCost']\n",
    "dt_regression = DecisionTreeRegressor(max_depth = 1) # Increase max_depth to see effect in the plot\n",
    "dt_regression.fit(sales_train[features], sales_train['TotalRevenue'])"
   ]
  },
  {
   "cell_type": "code",
   "execution_count": 8,
   "id": "7f3b2d19",
   "metadata": {},
   "outputs": [],
   "source": [
    "from sklearn import tree\n",
    "import graphviz\n",
    "\n",
    "def plot_tree_regression(model, features):\n",
    "    # Generate plot data\n",
    "    dot_data = tree.export_graphviz(model, out_file=None, \n",
    "                          feature_names=features,  \n",
    "                          filled=True, rounded=True,  \n",
    "                          special_characters=True)  \n",
    "\n",
    "    # Turn into graph using graphviz\n",
    "    graph = graphviz.Source(dot_data)  \n",
    "\n",
    "    # Write out a pdf\n",
    "    graph.render(\"decision_tree\")\n",
    "\n",
    "    # Display in the notebook\n",
    "    return graph "
   ]
  },
  {
   "cell_type": "code",
   "execution_count": 9,
   "id": "7a224e2a",
   "metadata": {},
   "outputs": [
    {
     "data": {
      "image/svg+xml": [
       "<?xml version=\"1.0\" encoding=\"UTF-8\" standalone=\"no\"?>\n",
       "<!DOCTYPE svg PUBLIC \"-//W3C//DTD SVG 1.1//EN\"\n",
       " \"http://www.w3.org/Graphics/SVG/1.1/DTD/svg11.dtd\">\n",
       "<!-- Generated by graphviz version 3.0.0 (20220226.1711)\n",
       " -->\n",
       "<!-- Title: Tree Pages: 1 -->\n",
       "<svg width=\"402pt\" height=\"165pt\"\n",
       " viewBox=\"0.00 0.00 401.50 165.00\" xmlns=\"http://www.w3.org/2000/svg\" xmlns:xlink=\"http://www.w3.org/1999/xlink\">\n",
       "<g id=\"graph0\" class=\"graph\" transform=\"scale(1 1) rotate(0) translate(4 161)\">\n",
       "<title>Tree</title>\n",
       "<polygon fill=\"white\" stroke=\"transparent\" points=\"-4,4 -4,-161 397.5,-161 397.5,4 -4,4\"/>\n",
       "<!-- 0 -->\n",
       "<g id=\"node1\" class=\"node\">\n",
       "<title>0</title>\n",
       "<path fill=\"#fae7d9\" stroke=\"black\" d=\"M278.5,-157C278.5,-157 106.5,-157 106.5,-157 100.5,-157 94.5,-151 94.5,-145 94.5,-145 94.5,-101 94.5,-101 94.5,-95 100.5,-89 106.5,-89 106.5,-89 278.5,-89 278.5,-89 284.5,-89 290.5,-95 290.5,-101 290.5,-101 290.5,-145 290.5,-145 290.5,-151 284.5,-157 278.5,-157\"/>\n",
       "<text text-anchor=\"start\" x=\"111\" y=\"-141.8\" font-family=\"Helvetica,sans-Serif\" font-size=\"14.00\">TotalCost ≤ 1655340.438</text>\n",
       "<text text-anchor=\"start\" x=\"102.5\" y=\"-126.8\" font-family=\"Helvetica,sans-Serif\" font-size=\"14.00\">mse = 2149489130282.508</text>\n",
       "<text text-anchor=\"start\" x=\"136.5\" y=\"-111.8\" font-family=\"Helvetica,sans-Serif\" font-size=\"14.00\">samples = 35000</text>\n",
       "<text text-anchor=\"start\" x=\"129\" y=\"-96.8\" font-family=\"Helvetica,sans-Serif\" font-size=\"14.00\">value = 1325570.47</text>\n",
       "</g>\n",
       "<!-- 1 -->\n",
       "<g id=\"node2\" class=\"node\">\n",
       "<title>1</title>\n",
       "<path fill=\"#ffffff\" stroke=\"black\" d=\"M167,-53C167,-53 12,-53 12,-53 6,-53 0,-47 0,-41 0,-41 0,-12 0,-12 0,-6 6,0 12,0 12,0 167,0 167,0 173,0 179,-6 179,-12 179,-12 179,-41 179,-41 179,-47 173,-53 167,-53\"/>\n",
       "<text text-anchor=\"start\" x=\"8\" y=\"-37.8\" font-family=\"Helvetica,sans-Serif\" font-size=\"14.00\">mse = 390269306883.76</text>\n",
       "<text text-anchor=\"start\" x=\"33.5\" y=\"-22.8\" font-family=\"Helvetica,sans-Serif\" font-size=\"14.00\">samples = 28346</text>\n",
       "<text text-anchor=\"start\" x=\"26\" y=\"-7.8\" font-family=\"Helvetica,sans-Serif\" font-size=\"14.00\">value = 720332.528</text>\n",
       "</g>\n",
       "<!-- 0&#45;&gt;1 -->\n",
       "<g id=\"edge1\" class=\"edge\">\n",
       "<title>0&#45;&gt;1</title>\n",
       "<path fill=\"none\" stroke=\"black\" d=\"M156.48,-88.95C146.31,-79.62 135.25,-69.47 125.1,-60.16\"/>\n",
       "<polygon fill=\"black\" stroke=\"black\" points=\"127.29,-57.42 117.55,-53.24 122.55,-62.58 127.29,-57.42\"/>\n",
       "<text text-anchor=\"middle\" x=\"118.63\" y=\"-74.51\" font-family=\"Helvetica,sans-Serif\" font-size=\"14.00\">True</text>\n",
       "</g>\n",
       "<!-- 2 -->\n",
       "<g id=\"node3\" class=\"node\">\n",
       "<title>2</title>\n",
       "<path fill=\"#e58139\" stroke=\"black\" d=\"M381.5,-53C381.5,-53 209.5,-53 209.5,-53 203.5,-53 197.5,-47 197.5,-41 197.5,-41 197.5,-12 197.5,-12 197.5,-6 203.5,0 209.5,0 209.5,0 381.5,0 381.5,0 387.5,0 393.5,-6 393.5,-12 393.5,-12 393.5,-41 393.5,-41 393.5,-47 387.5,-53 381.5,-53\"/>\n",
       "<text text-anchor=\"start\" x=\"205.5\" y=\"-37.8\" font-family=\"Helvetica,sans-Serif\" font-size=\"14.00\">mse = 1435581549380.027</text>\n",
       "<text text-anchor=\"start\" x=\"244\" y=\"-22.8\" font-family=\"Helvetica,sans-Serif\" font-size=\"14.00\">samples = 6654</text>\n",
       "<text text-anchor=\"start\" x=\"227.5\" y=\"-7.8\" font-family=\"Helvetica,sans-Serif\" font-size=\"14.00\">value = 3903880.463</text>\n",
       "</g>\n",
       "<!-- 0&#45;&gt;2 -->\n",
       "<g id=\"edge2\" class=\"edge\">\n",
       "<title>0&#45;&gt;2</title>\n",
       "<path fill=\"none\" stroke=\"black\" d=\"M228.52,-88.95C238.69,-79.62 249.75,-69.47 259.9,-60.16\"/>\n",
       "<polygon fill=\"black\" stroke=\"black\" points=\"262.45,-62.58 267.45,-53.24 257.71,-57.42 262.45,-62.58\"/>\n",
       "<text text-anchor=\"middle\" x=\"266.37\" y=\"-74.51\" font-family=\"Helvetica,sans-Serif\" font-size=\"14.00\">False</text>\n",
       "</g>\n",
       "</g>\n",
       "</svg>\n"
      ],
      "text/plain": [
       "<graphviz.sources.Source at 0x245e5cad790>"
      ]
     },
     "execution_count": 9,
     "metadata": {},
     "output_type": "execute_result"
    }
   ],
   "source": [
    "plot_tree_regression(dt_regression, features)"
   ]
  },
  {
   "cell_type": "code",
   "execution_count": 10,
   "id": "de5988f8",
   "metadata": {},
   "outputs": [
    {
     "name": "stdout",
     "output_type": "stream",
     "text": [
      "RMSE on training set 1398665.644669623\n",
      "RMSE on test set 1382637.1795785346\n"
     ]
    }
   ],
   "source": [
    "predictionsOnTrainset = dt_regression.predict(sales_train[features])\n",
    "predictionsOnTestset = dt_regression.predict(sales_test[features])\n",
    "\n",
    "rmseTrain = calculate_rmse(predictionsOnTrainset, sales_train.TotalProfit)\n",
    "rmseTest = calculate_rmse(predictionsOnTestset, sales_test.TotalProfit)\n",
    "\n",
    "print(\"RMSE on training set \" + str(rmseTrain))\n",
    "print(\"RMSE on test set \" + str(rmseTest))"
   ]
  },
  {
   "cell_type": "markdown",
   "id": "038944e1",
   "metadata": {},
   "source": [
    "De accuratie voldoet aan mijn verwachtingen. Ik had wel verwacht dat hij misschien iets beter zou worden naarmate ik de boom dieper zou makne maar dit is niet het geval."
   ]
  },
  {
   "cell_type": "markdown",
   "id": "024bf351",
   "metadata": {},
   "source": [
    "De tree werkt als volgt in de eerste stap kijkt hij of het gewicht groter of gelijk is aan 43 als dit waar is zet hij hem naar links als dit niet zo is zet hij hem naar rechts. Dit blijft hij eigenlijk netzo lang doen tot hij niet meer verder kan of de gezette diepte heeft bereikt. De mse die je ziet staan is het gemiddelde gekwadrateerde verschil tussen de geschatte waarden en de werkelijke waarde en je ziet dat deze verder afneemt naar mate je dieper de boom in gaat."
   ]
  },
  {
   "cell_type": "code",
   "execution_count": null,
   "id": "129ca325",
   "metadata": {},
   "outputs": [],
   "source": []
  }
 ],
 "metadata": {
  "kernelspec": {
   "display_name": "Python 3 (ipykernel)",
   "language": "python",
   "name": "python3"
  },
  "language_info": {
   "codemirror_mode": {
    "name": "ipython",
    "version": 3
   },
   "file_extension": ".py",
   "mimetype": "text/x-python",
   "name": "python",
   "nbconvert_exporter": "python",
   "pygments_lexer": "ipython3",
   "version": "3.9.7"
  }
 },
 "nbformat": 4,
 "nbformat_minor": 5
}
