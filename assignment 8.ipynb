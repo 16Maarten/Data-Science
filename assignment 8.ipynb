{
 "cells": [
  {
   "cell_type": "code",
   "execution_count": 1,
   "id": "2ea0a378",
   "metadata": {},
   "outputs": [],
   "source": [
    "import pandas as pd"
   ]
  },
  {
   "cell_type": "code",
   "execution_count": 2,
   "id": "f7a42e53",
   "metadata": {},
   "outputs": [],
   "source": [
    "videogamesales = pd.read_csv(\"./input/vgsales.csv\")"
   ]
  },
  {
   "cell_type": "code",
   "execution_count": 3,
   "id": "d913bc0f",
   "metadata": {},
   "outputs": [],
   "source": [
    "import scipy.stats as st"
   ]
  },
  {
   "cell_type": "markdown",
   "id": "ac82e4d5",
   "metadata": {},
   "source": [
    "# Sales Global"
   ]
  },
  {
   "cell_type": "code",
   "execution_count": 4,
   "id": "7af04b75",
   "metadata": {},
   "outputs": [
    {
     "data": {
      "text/plain": [
       "(0.5175860248001194, 0.5572952862013607)"
      ]
     },
     "execution_count": 4,
     "metadata": {},
     "output_type": "execute_result"
    }
   ],
   "source": [
    "confidence = 0.90\n",
    "st.t.interval(confidence, len(videogamesales['Global_Sales'])-1, loc=videogamesales['Global_Sales'].mean(), scale=st.sem(videogamesales['Global_Sales']))"
   ]
  },
  {
   "cell_type": "code",
   "execution_count": 5,
   "id": "4483569b",
   "metadata": {},
   "outputs": [
    {
     "data": {
      "text/plain": [
       "(0.513781998985215, 0.5610993120162651)"
      ]
     },
     "execution_count": 5,
     "metadata": {},
     "output_type": "execute_result"
    }
   ],
   "source": [
    "confidence = 0.95\n",
    "st.t.interval(confidence, len(videogamesales['Global_Sales'])-1, loc=videogamesales['Global_Sales'].mean(), scale=st.sem(videogamesales['Global_Sales']))"
   ]
  },
  {
   "cell_type": "code",
   "execution_count": 6,
   "id": "84208b10",
   "metadata": {},
   "outputs": [
    {
     "data": {
      "text/plain": [
       "(0.5063466018870761, 0.568534709114404)"
      ]
     },
     "execution_count": 6,
     "metadata": {},
     "output_type": "execute_result"
    }
   ],
   "source": [
    "confidence = 0.99\n",
    "st.t.interval(confidence, len(videogamesales['Global_Sales'])-1, loc=videogamesales['Global_Sales'].mean(), scale=st.sem(videogamesales['Global_Sales']))"
   ]
  },
  {
   "cell_type": "code",
   "execution_count": 7,
   "id": "baacba6f",
   "metadata": {},
   "outputs": [
    {
     "data": {
      "text/plain": [
       "(0.49046946533976576, 0.5844118456617143)"
      ]
     },
     "execution_count": 7,
     "metadata": {},
     "output_type": "execute_result"
    }
   ],
   "source": [
    "confidence = 0.9999\n",
    "st.t.interval(confidence, len(videogamesales['Global_Sales'])-1, loc=videogamesales['Global_Sales'].mean(), scale=st.sem(videogamesales['Global_Sales']))"
   ]
  },
  {
   "cell_type": "markdown",
   "id": "527bd52e",
   "metadata": {},
   "source": [
    "# Sales Japan"
   ]
  },
  {
   "cell_type": "code",
   "execution_count": 8,
   "id": "0e33e13a",
   "metadata": {},
   "outputs": [
    {
     "data": {
      "text/plain": [
       "(0.07383263067996233, 0.08173069020205982)"
      ]
     },
     "execution_count": 8,
     "metadata": {},
     "output_type": "execute_result"
    }
   ],
   "source": [
    "confidence = 0.90\n",
    "st.t.interval(confidence, len(videogamesales['JP_Sales'])-1, loc=videogamesales['JP_Sales'].mean(), scale=st.sem(videogamesales['JP_Sales']))"
   ]
  },
  {
   "cell_type": "code",
   "execution_count": 9,
   "id": "106eb948",
   "metadata": {},
   "outputs": [
    {
     "data": {
      "text/plain": [
       "(0.07307602072929802, 0.08248730015272414)"
      ]
     },
     "execution_count": 9,
     "metadata": {},
     "output_type": "execute_result"
    }
   ],
   "source": [
    "confidence = 0.95\n",
    "st.t.interval(confidence, len(videogamesales['JP_Sales'])-1, loc=videogamesales['JP_Sales'].mean(), scale=st.sem(videogamesales['JP_Sales']))"
   ]
  },
  {
   "cell_type": "code",
   "execution_count": 10,
   "id": "1cd35af1",
   "metadata": {},
   "outputs": [
    {
     "data": {
      "text/plain": [
       "(0.07159714132486526, 0.08396617955715689)"
      ]
     },
     "execution_count": 10,
     "metadata": {},
     "output_type": "execute_result"
    }
   ],
   "source": [
    "confidence = 0.99\n",
    "st.t.interval(confidence, len(videogamesales['JP_Sales'])-1, loc=videogamesales['JP_Sales'].mean(), scale=st.sem(videogamesales['JP_Sales']))"
   ]
  },
  {
   "cell_type": "code",
   "execution_count": 11,
   "id": "137044fb",
   "metadata": {},
   "outputs": [
    {
     "data": {
      "text/plain": [
       "(0.06843922387522955, 0.0871240970067926)"
      ]
     },
     "execution_count": 11,
     "metadata": {},
     "output_type": "execute_result"
    }
   ],
   "source": [
    "confidence = 0.9999\n",
    "st.t.interval(confidence, len(videogamesales['JP_Sales'])-1, loc=videogamesales['JP_Sales'].mean(), scale=st.sem(videogamesales['JP_Sales']))"
   ]
  },
  {
   "cell_type": "markdown",
   "id": "18c4def5",
   "metadata": {},
   "source": [
    "# Sales With 10% of rows"
   ]
  },
  {
   "cell_type": "code",
   "execution_count": 12,
   "id": "61132223",
   "metadata": {},
   "outputs": [],
   "source": [
    "def sample_first_prows(data, perc=0.1):\n",
    "    return data.head(int(len(data)*(perc)))"
   ]
  },
  {
   "cell_type": "code",
   "execution_count": 13,
   "id": "6975557b",
   "metadata": {},
   "outputs": [],
   "source": [
    "smallvideogamesales = sample_first_prows(videogamesales)"
   ]
  },
  {
   "cell_type": "code",
   "execution_count": 14,
   "id": "47dd109f",
   "metadata": {},
   "outputs": [
    {
     "data": {
      "text/plain": [
       "(2.971612774483198, 3.3556566649381505)"
      ]
     },
     "execution_count": 14,
     "metadata": {},
     "output_type": "execute_result"
    }
   ],
   "source": [
    "confidence = 0.95\n",
    "st.t.interval(confidence, len(smallvideogamesales['Global_Sales'])-1, loc=smallvideogamesales['Global_Sales'].mean(), scale=st.sem(smallvideogamesales['Global_Sales']))"
   ]
  },
  {
   "cell_type": "code",
   "execution_count": 15,
   "id": "aaa218ac",
   "metadata": {},
   "outputs": [
    {
     "data": {
      "text/plain": [
       "(0.356597361652292, 0.4390144526936945)"
      ]
     },
     "execution_count": 15,
     "metadata": {},
     "output_type": "execute_result"
    }
   ],
   "source": [
    "confidence = 0.95\n",
    "st.t.interval(confidence, len(smallvideogamesales['JP_Sales'])-1, loc=smallvideogamesales['JP_Sales'].mean(), scale=st.sem(smallvideogamesales['JP_Sales']))"
   ]
  },
  {
   "cell_type": "markdown",
   "id": "2299b7c9",
   "metadata": {},
   "source": [
    "Je ziet dat naarmate het confidence level toeneemt de interval groter wordt"
   ]
  },
  {
   "cell_type": "markdown",
   "id": "9a14f987",
   "metadata": {},
   "source": [
    "Je kunt ook zien dat de interval met maar 10% van de data een stuk groter is dan dat hij de hele dataset gebruikt\n",
    "Bij Global sales is dit (0.513781998985215, 0.5610993120162651) bij 100% en dit (2.971612774483198, 3.3556566649381505) bij 10% hetzelfde geld voor sales in Japan"
   ]
  },
  {
   "cell_type": "code",
   "execution_count": null,
   "id": "322b990f",
   "metadata": {},
   "outputs": [],
   "source": []
  }
 ],
 "metadata": {
  "kernelspec": {
   "display_name": "Python 3 (ipykernel)",
   "language": "python",
   "name": "python3"
  },
  "language_info": {
   "codemirror_mode": {
    "name": "ipython",
    "version": 3
   },
   "file_extension": ".py",
   "mimetype": "text/x-python",
   "name": "python",
   "nbconvert_exporter": "python",
   "pygments_lexer": "ipython3",
   "version": "3.9.7"
  }
 },
 "nbformat": 4,
 "nbformat_minor": 5
}
