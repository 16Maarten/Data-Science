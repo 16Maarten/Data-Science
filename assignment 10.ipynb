{
 "cells": [
  {
   "cell_type": "code",
   "execution_count": 1,
   "id": "6ac1c144",
   "metadata": {},
   "outputs": [],
   "source": [
    "import pandas as pd\n",
    "videogamesales = pd.read_csv(\"./input/vgsales.csv\")"
   ]
  },
  {
   "cell_type": "code",
   "execution_count": 2,
   "id": "3a0725f8",
   "metadata": {},
   "outputs": [
    {
     "name": "stderr",
     "output_type": "stream",
     "text": [
      "C:\\Users\\acer\\AppData\\Local\\Temp/ipykernel_14816/1978201584.py:2: FutureWarning: this method is deprecated in favour of `Styler.format(precision=..)`\n",
      "  VSCorr.style.background_gradient(cmap='coolwarm', axis=None).set_precision(2)\n"
     ]
    },
    {
     "data": {
      "text/html": [
       "<style type=\"text/css\">\n",
       "#T_9708e_row0_col0, #T_9708e_row1_col1, #T_9708e_row2_col2, #T_9708e_row3_col3, #T_9708e_row4_col4, #T_9708e_row5_col5, #T_9708e_row6_col6 {\n",
       "  background-color: #b40426;\n",
       "  color: #f1f1f1;\n",
       "}\n",
       "#T_9708e_row0_col1, #T_9708e_row1_col0 {\n",
       "  background-color: #c7d7f0;\n",
       "  color: #000000;\n",
       "}\n",
       "#T_9708e_row0_col2, #T_9708e_row2_col0 {\n",
       "  background-color: #3f53c6;\n",
       "  color: #f1f1f1;\n",
       "}\n",
       "#T_9708e_row0_col3, #T_9708e_row3_col0 {\n",
       "  background-color: #445acc;\n",
       "  color: #f1f1f1;\n",
       "}\n",
       "#T_9708e_row0_col4, #T_9708e_row4_col0 {\n",
       "  background-color: #5d7ce6;\n",
       "  color: #f1f1f1;\n",
       "}\n",
       "#T_9708e_row0_col5, #T_9708e_row5_col0 {\n",
       "  background-color: #4e68d8;\n",
       "  color: #f1f1f1;\n",
       "}\n",
       "#T_9708e_row0_col6, #T_9708e_row6_col0 {\n",
       "  background-color: #3b4cc0;\n",
       "  color: #f1f1f1;\n",
       "}\n",
       "#T_9708e_row1_col2, #T_9708e_row2_col1 {\n",
       "  background-color: #88abfd;\n",
       "  color: #000000;\n",
       "}\n",
       "#T_9708e_row1_col3, #T_9708e_row3_col1 {\n",
       "  background-color: #9fbfff;\n",
       "  color: #000000;\n",
       "}\n",
       "#T_9708e_row1_col4, #T_9708e_row4_col1 {\n",
       "  background-color: #7597f6;\n",
       "  color: #f1f1f1;\n",
       "}\n",
       "#T_9708e_row1_col5, #T_9708e_row5_col1 {\n",
       "  background-color: #a9c6fd;\n",
       "  color: #000000;\n",
       "}\n",
       "#T_9708e_row1_col6, #T_9708e_row6_col1 {\n",
       "  background-color: #8caffe;\n",
       "  color: #000000;\n",
       "}\n",
       "#T_9708e_row2_col3, #T_9708e_row3_col2 {\n",
       "  background-color: #e67259;\n",
       "  color: #f1f1f1;\n",
       "}\n",
       "#T_9708e_row2_col4, #T_9708e_row4_col2 {\n",
       "  background-color: #f3c7b1;\n",
       "  color: #000000;\n",
       "}\n",
       "#T_9708e_row2_col5, #T_9708e_row5_col2 {\n",
       "  background-color: #f59c7d;\n",
       "  color: #000000;\n",
       "}\n",
       "#T_9708e_row2_col6, #T_9708e_row6_col2 {\n",
       "  background-color: #c32e31;\n",
       "  color: #f1f1f1;\n",
       "}\n",
       "#T_9708e_row3_col4, #T_9708e_row4_col3 {\n",
       "  background-color: #f2cab5;\n",
       "  color: #000000;\n",
       "}\n",
       "#T_9708e_row3_col5, #T_9708e_row5_col3 {\n",
       "  background-color: #ec8165;\n",
       "  color: #f1f1f1;\n",
       "}\n",
       "#T_9708e_row3_col6, #T_9708e_row6_col3 {\n",
       "  background-color: #cc403a;\n",
       "  color: #f1f1f1;\n",
       "}\n",
       "#T_9708e_row4_col5, #T_9708e_row5_col4 {\n",
       "  background-color: #dddcdc;\n",
       "  color: #000000;\n",
       "}\n",
       "#T_9708e_row4_col6, #T_9708e_row6_col4 {\n",
       "  background-color: #f6a283;\n",
       "  color: #000000;\n",
       "}\n",
       "#T_9708e_row5_col6, #T_9708e_row6_col5 {\n",
       "  background-color: #e97a5f;\n",
       "  color: #f1f1f1;\n",
       "}\n",
       "</style>\n",
       "<table id=\"T_9708e_\">\n",
       "  <thead>\n",
       "    <tr>\n",
       "      <th class=\"blank level0\" >&nbsp;</th>\n",
       "      <th class=\"col_heading level0 col0\" >Rank</th>\n",
       "      <th class=\"col_heading level0 col1\" >Year</th>\n",
       "      <th class=\"col_heading level0 col2\" >NA_Sales</th>\n",
       "      <th class=\"col_heading level0 col3\" >EU_Sales</th>\n",
       "      <th class=\"col_heading level0 col4\" >JP_Sales</th>\n",
       "      <th class=\"col_heading level0 col5\" >Other_Sales</th>\n",
       "      <th class=\"col_heading level0 col6\" >Global_Sales</th>\n",
       "    </tr>\n",
       "  </thead>\n",
       "  <tbody>\n",
       "    <tr>\n",
       "      <th id=\"T_9708e_level0_row0\" class=\"row_heading level0 row0\" >Rank</th>\n",
       "      <td id=\"T_9708e_row0_col0\" class=\"data row0 col0\" >1.00</td>\n",
       "      <td id=\"T_9708e_row0_col1\" class=\"data row0 col1\" >0.18</td>\n",
       "      <td id=\"T_9708e_row0_col2\" class=\"data row0 col2\" >-0.40</td>\n",
       "      <td id=\"T_9708e_row0_col3\" class=\"data row0 col3\" >-0.38</td>\n",
       "      <td id=\"T_9708e_row0_col4\" class=\"data row0 col4\" >-0.27</td>\n",
       "      <td id=\"T_9708e_row0_col5\" class=\"data row0 col5\" >-0.33</td>\n",
       "      <td id=\"T_9708e_row0_col6\" class=\"data row0 col6\" >-0.43</td>\n",
       "    </tr>\n",
       "    <tr>\n",
       "      <th id=\"T_9708e_level0_row1\" class=\"row_heading level0 row1\" >Year</th>\n",
       "      <td id=\"T_9708e_row1_col0\" class=\"data row1 col0\" >0.18</td>\n",
       "      <td id=\"T_9708e_row1_col1\" class=\"data row1 col1\" >1.00</td>\n",
       "      <td id=\"T_9708e_row1_col2\" class=\"data row1 col2\" >-0.09</td>\n",
       "      <td id=\"T_9708e_row1_col3\" class=\"data row1 col3\" >0.01</td>\n",
       "      <td id=\"T_9708e_row1_col4\" class=\"data row1 col4\" >-0.17</td>\n",
       "      <td id=\"T_9708e_row1_col5\" class=\"data row1 col5\" >0.04</td>\n",
       "      <td id=\"T_9708e_row1_col6\" class=\"data row1 col6\" >-0.07</td>\n",
       "    </tr>\n",
       "    <tr>\n",
       "      <th id=\"T_9708e_level0_row2\" class=\"row_heading level0 row2\" >NA_Sales</th>\n",
       "      <td id=\"T_9708e_row2_col0\" class=\"data row2 col0\" >-0.40</td>\n",
       "      <td id=\"T_9708e_row2_col1\" class=\"data row2 col1\" >-0.09</td>\n",
       "      <td id=\"T_9708e_row2_col2\" class=\"data row2 col2\" >1.00</td>\n",
       "      <td id=\"T_9708e_row2_col3\" class=\"data row2 col3\" >0.77</td>\n",
       "      <td id=\"T_9708e_row2_col4\" class=\"data row2 col4\" >0.45</td>\n",
       "      <td id=\"T_9708e_row2_col5\" class=\"data row2 col5\" >0.63</td>\n",
       "      <td id=\"T_9708e_row2_col6\" class=\"data row2 col6\" >0.94</td>\n",
       "    </tr>\n",
       "    <tr>\n",
       "      <th id=\"T_9708e_level0_row3\" class=\"row_heading level0 row3\" >EU_Sales</th>\n",
       "      <td id=\"T_9708e_row3_col0\" class=\"data row3 col0\" >-0.38</td>\n",
       "      <td id=\"T_9708e_row3_col1\" class=\"data row3 col1\" >0.01</td>\n",
       "      <td id=\"T_9708e_row3_col2\" class=\"data row3 col2\" >0.77</td>\n",
       "      <td id=\"T_9708e_row3_col3\" class=\"data row3 col3\" >1.00</td>\n",
       "      <td id=\"T_9708e_row3_col4\" class=\"data row3 col4\" >0.44</td>\n",
       "      <td id=\"T_9708e_row3_col5\" class=\"data row3 col5\" >0.73</td>\n",
       "      <td id=\"T_9708e_row3_col6\" class=\"data row3 col6\" >0.90</td>\n",
       "    </tr>\n",
       "    <tr>\n",
       "      <th id=\"T_9708e_level0_row4\" class=\"row_heading level0 row4\" >JP_Sales</th>\n",
       "      <td id=\"T_9708e_row4_col0\" class=\"data row4 col0\" >-0.27</td>\n",
       "      <td id=\"T_9708e_row4_col1\" class=\"data row4 col1\" >-0.17</td>\n",
       "      <td id=\"T_9708e_row4_col2\" class=\"data row4 col2\" >0.45</td>\n",
       "      <td id=\"T_9708e_row4_col3\" class=\"data row4 col3\" >0.44</td>\n",
       "      <td id=\"T_9708e_row4_col4\" class=\"data row4 col4\" >1.00</td>\n",
       "      <td id=\"T_9708e_row4_col5\" class=\"data row4 col5\" >0.29</td>\n",
       "      <td id=\"T_9708e_row4_col6\" class=\"data row4 col6\" >0.61</td>\n",
       "    </tr>\n",
       "    <tr>\n",
       "      <th id=\"T_9708e_level0_row5\" class=\"row_heading level0 row5\" >Other_Sales</th>\n",
       "      <td id=\"T_9708e_row5_col0\" class=\"data row5 col0\" >-0.33</td>\n",
       "      <td id=\"T_9708e_row5_col1\" class=\"data row5 col1\" >0.04</td>\n",
       "      <td id=\"T_9708e_row5_col2\" class=\"data row5 col2\" >0.63</td>\n",
       "      <td id=\"T_9708e_row5_col3\" class=\"data row5 col3\" >0.73</td>\n",
       "      <td id=\"T_9708e_row5_col4\" class=\"data row5 col4\" >0.29</td>\n",
       "      <td id=\"T_9708e_row5_col5\" class=\"data row5 col5\" >1.00</td>\n",
       "      <td id=\"T_9708e_row5_col6\" class=\"data row5 col6\" >0.75</td>\n",
       "    </tr>\n",
       "    <tr>\n",
       "      <th id=\"T_9708e_level0_row6\" class=\"row_heading level0 row6\" >Global_Sales</th>\n",
       "      <td id=\"T_9708e_row6_col0\" class=\"data row6 col0\" >-0.43</td>\n",
       "      <td id=\"T_9708e_row6_col1\" class=\"data row6 col1\" >-0.07</td>\n",
       "      <td id=\"T_9708e_row6_col2\" class=\"data row6 col2\" >0.94</td>\n",
       "      <td id=\"T_9708e_row6_col3\" class=\"data row6 col3\" >0.90</td>\n",
       "      <td id=\"T_9708e_row6_col4\" class=\"data row6 col4\" >0.61</td>\n",
       "      <td id=\"T_9708e_row6_col5\" class=\"data row6 col5\" >0.75</td>\n",
       "      <td id=\"T_9708e_row6_col6\" class=\"data row6 col6\" >1.00</td>\n",
       "    </tr>\n",
       "  </tbody>\n",
       "</table>\n"
      ],
      "text/plain": [
       "<pandas.io.formats.style.Styler at 0x2261c34a250>"
      ]
     },
     "execution_count": 2,
     "metadata": {},
     "output_type": "execute_result"
    }
   ],
   "source": [
    "VSCorr = videogamesales.corr()\n",
    "VSCorr.style.background_gradient(cmap='coolwarm', axis=None).set_precision(2)"
   ]
  },
  {
   "cell_type": "code",
   "execution_count": 3,
   "id": "c8cd6cef",
   "metadata": {},
   "outputs": [
    {
     "data": {
      "text/plain": [
       "<AxesSubplot:xlabel='Global_Sales', ylabel='NA_Sales'>"
      ]
     },
     "execution_count": 3,
     "metadata": {},
     "output_type": "execute_result"
    },
    {
     "data": {
      "image/png": "[encoded data removed]",
      "text/plain": [
       "<Figure size 432x288 with 1 Axes>"
      ]
     },
     "metadata": {
      "needs_background": "light"
     },
     "output_type": "display_data"
    }
   ],
   "source": [
    "videogamesales.plot(kind='scatter', x='Global_Sales', y='NA_Sales')"
   ]
  },
  {
   "cell_type": "code",
   "execution_count": 4,
   "id": "84e7a6f7",
   "metadata": {},
   "outputs": [
    {
     "data": {
      "text/plain": [
       "<AxesSubplot:xlabel='Global_Sales', ylabel='EU_Sales'>"
      ]
     },
     "execution_count": 4,
     "metadata": {},
     "output_type": "execute_result"
    },
    {
     "data": {
      "image/png": "[encoded data removed]",
      "text/plain": [
       "<Figure size 432x288 with 1 Axes>"
      ]
     },
     "metadata": {
      "needs_background": "light"
     },
     "output_type": "display_data"
    }
   ],
   "source": [
    "videogamesales.plot(kind='scatter', x='Global_Sales', y='EU_Sales')"
   ]
  },
  {
   "cell_type": "markdown",
   "id": "b15aff49",
   "metadata": {},
   "source": [
    "Ik had wel verwacht dat de NA_Sales zo evenredig zouden lopen met de global sales omdat global sales natuurlijk afhankt van alle sales dus als een deel van alle sales hoger is zijn alle sales bij elkaar opgeteld ook hoger"
   ]
  },
  {
   "cell_type": "code",
   "execution_count": null,
   "id": "4f8fd9cf",
   "metadata": {},
   "outputs": [],
   "source": []
  }
 ],
 "metadata": {
  "kernelspec": {
   "display_name": "Python 3 (ipykernel)",
   "language": "python",
   "name": "python3"
  },
  "language_info": {
   "codemirror_mode": {
    "name": "ipython",
    "version": 3
   },
   "file_extension": ".py",
   "mimetype": "text/x-python",
   "name": "python",
   "nbconvert_exporter": "python",
   "pygments_lexer": "ipython3",
   "version": "3.9.7"
  }
 },
 "nbformat": 4,
 "nbformat_minor": 5
}
